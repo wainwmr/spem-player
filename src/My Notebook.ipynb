{
 "cells": [
  {
   "cell_type": "code",
   "execution_count": 1,
   "id": "bf905e76-9c31-48ee-87e5-a1a5e71a0014",
   "metadata": {},
   "outputs": [],
   "source": [
    "import { Duration, Component, BarLine, Note, Rest } from './classes.js';"
   ]
  },
  {
   "cell_type": "code",
   "execution_count": 2,
   "id": "57169ba2-f62b-41f5-a5d3-29c250a89b97",
   "metadata": {},
   "outputs": [],
   "source": [
    "// var promise = await fetch('http://localhost:8888/src/ly-grammar.ohm');\n",
    "// var ly = await promise.text();"
   ]
  },
  {
   "cell_type": "code",
   "execution_count": 4,
   "id": "2857483e-ae57-44cc-961d-0dbf8880ea1a",
   "metadata": {},
   "outputs": [],
   "source": [
    "var ly = `\n",
    "\n",
    "Voice {\n",
    "\t\n",
    "    RelativeClause = \"\\\\relative\" note? \"{\" Music \"}\"\n",
    "    \n",
    "    Music = Component*\n",
    "\n",
    "    comment = \"%\" (~\"\\\\n\" any)* (\"\\\\n\" | end)\n",
    "    space += comment\n",
    "    \n",
    "    Component = note --note\n",
    "    \t\t| repeatedNote -- repeatedNote\n",
    "\t\t    | rest --rest\n",
    "\t\t    | barline -- barline\n",
    "    \n",
    "    barline = \"|\"\n",
    "    \n",
    "\tnote = noteName accidental? octave? durationScaled? slur?\n",
    "\tnoteName = \"a\" | \"b\" | \"c\" | \"d\" | \"e\" | \"f\" | \"g\"\n",
    "    \n",
    "    repeatedNote = durationScaled slur?\n",
    "    \n",
    "    accidental = \"is\" -- sharp \n",
    "    \t\t\t| \"es\" -- flat\n",
    "    \n",
    "    rest = restName durationScaled?\n",
    "    restName = \"r\" -- rest \n",
    "    \t\t| \"R\" -- wholeBarRest\n",
    "    \n",
    "    octave = octaveUp | octaveDown\n",
    "    octaveUp = \"'\"+\n",
    "    octaveDown = \",\"+\n",
    "    \n",
    "    fraction = #(digit+ (\"/\" digit+)?)\n",
    "    \n",
    "    durationScaled = duration (\"*\" fraction)?\n",
    "    duration = (\"\\\\breve\" | \"64\" | \"32\" | \"16\" | \"8\" | \"4\" | \"2\" | \"1\") \".\"*\n",
    "    \n",
    "    slur = \"~\"\n",
    "}\n",
    "\n",
    "`"
   ]
  },
  {
   "cell_type": "code",
   "execution_count": 5,
   "id": "b0009c28-a060-4926-9abd-d0d5b52c15a1",
   "metadata": {},
   "outputs": [],
   "source": [
    "import * as ohm from 'npm:ohm-js';"
   ]
  },
  {
   "cell_type": "code",
   "execution_count": 6,
   "id": "9db5d37e-f2ca-44b1-a29e-34440ecfa185",
   "metadata": {},
   "outputs": [],
   "source": [
    "var lyGrammar = ohm.grammar(ly);"
   ]
  },
  {
   "cell_type": "code",
   "execution_count": 7,
   "id": "70e016c6-23f6-4fbf-81b3-e6c7761dd869",
   "metadata": {},
   "outputs": [],
   "source": [
    "var dict = {}"
   ]
  },
  {
   "cell_type": "code",
   "execution_count": 8,
   "id": "0977657c-f708-4a49-9763-39c556ed7102",
   "metadata": {},
   "outputs": [
    {
     "data": {
      "text/plain": [
       "\u001b[33m1\u001b[39m"
      ]
     },
     "execution_count": 8,
     "metadata": {},
     "output_type": "execute_result"
    }
   ],
   "source": [
    "dict[1] = [];\n",
    "dict[1].push({ c: \"0\", p: \"1\", note: \"g2\" })"
   ]
  },
  {
   "cell_type": "code",
   "execution_count": 9,
   "id": "47339fa8-2146-49b9-99f2-d0c7dec8a3d7",
   "metadata": {},
   "outputs": [
    {
     "data": {
      "text/plain": [
       "[ { c: \u001b[32m\"0\"\u001b[39m, p: \u001b[32m\"1\"\u001b[39m, note: \u001b[32m\"g2\"\u001b[39m } ]"
      ]
     },
     "execution_count": 9,
     "metadata": {},
     "output_type": "execute_result"
    }
   ],
   "source": [
    "dict[1]"
   ]
  },
  {
   "cell_type": "code",
   "execution_count": 10,
   "id": "60c82b99-b038-4e30-9ff5-3df37ffc80eb",
   "metadata": {},
   "outputs": [
    {
     "data": {
      "text/plain": [
       "\u001b[33m1\u001b[39m"
      ]
     },
     "execution_count": 10,
     "metadata": {},
     "output_type": "execute_result"
    }
   ],
   "source": [
    "dict[1.5] = [];\n",
    "dict[1.5].push({c: \"0\", p:\"0\", note:\"d4\" })"
   ]
  },
  {
   "cell_type": "code",
   "execution_count": 11,
   "id": "d2ef68b9-f5b0-41d9-9a9a-85d7d583968d",
   "metadata": {},
   "outputs": [
    {
     "data": {
      "text/plain": [
       "\u001b[33m2\u001b[39m"
      ]
     },
     "execution_count": 11,
     "metadata": {},
     "output_type": "execute_result"
    }
   ],
   "source": [
    "dict[1.5].push({c: \"0\", p:\"1\", note:\"g4\"})"
   ]
  },
  {
   "cell_type": "code",
   "execution_count": 12,
   "id": "b5185565-fc53-4187-9fb0-be35336d2ac7",
   "metadata": {},
   "outputs": [
    {
     "data": {
      "text/plain": [
       "[ { c: \u001b[32m\"0\"\u001b[39m, p: \u001b[32m\"0\"\u001b[39m, note: \u001b[32m\"d4\"\u001b[39m }, { c: \u001b[32m\"0\"\u001b[39m, p: \u001b[32m\"1\"\u001b[39m, note: \u001b[32m\"g4\"\u001b[39m } ]"
      ]
     },
     "execution_count": 12,
     "metadata": {},
     "output_type": "execute_result"
    }
   ],
   "source": [
    "dict[1.5]"
   ]
  },
  {
   "cell_type": "code",
   "execution_count": 13,
   "id": "4d339bf4-590c-402b-a608-057124cb96a3",
   "metadata": {},
   "outputs": [],
   "source": [
    "var pulses = [];"
   ]
  },
  {
   "cell_type": "code",
   "execution_count": 14,
   "id": "677b4df4-6314-4806-b2ba-ad2f135b6916",
   "metadata": {},
   "outputs": [
    {
     "ename": "TypeError",
     "evalue": "Cannot read properties of undefined (reading '1')",
     "output_type": "error",
     "traceback": [
      "Stack trace:",
      "TypeError: Cannot read properties of undefined (reading '1')",
      "    at <anonymous>:1:31"
     ]
    }
   ],
   "source": [
    "pulses[0][1]"
   ]
  },
  {
   "cell_type": "code",
   "execution_count": 16,
   "id": "017830ae-c796-4351-834c-9c30aa0d9037",
   "metadata": {},
   "outputs": [
    {
     "data": {
      "text/plain": [
       "\u001b[33m1\u001b[39m"
      ]
     },
     "execution_count": 16,
     "metadata": {},
     "output_type": "execute_result"
    }
   ],
   "source": [
    "for (var c = 0; c < 8; c++) {\n",
    "    pulses[c] = [];\n",
    "    for (var p = 0; p < 5; p++) {\n",
    "        pulses[c][p] = 1;\n",
    "    }\n",
    "}"
   ]
  },
  {
   "cell_type": "code",
   "execution_count": null,
   "id": "4e5781f5-0809-4209-a0b1-5ee0dfdc1cd6",
   "metadata": {},
   "outputs": [],
   "source": []
  }
 ],
 "metadata": {
  "kernelspec": {
   "display_name": "Deno",
   "language": "typescript",
   "name": "deno"
  },
  "language_info": {
   "file_extension": ".ts",
   "mimetype": "text/x.typescript",
   "name": "typescript",
   "nb_converter": "script",
   "pygments_lexer": "typescript",
   "version": "5.3.3"
  }
 },
 "nbformat": 4,
 "nbformat_minor": 5
}

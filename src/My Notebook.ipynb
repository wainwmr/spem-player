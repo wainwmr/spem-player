{
 "cells": [
  {
   "cell_type": "code",
   "execution_count": 1,
   "id": "bf905e76-9c31-48ee-87e5-a1a5e71a0014",
   "metadata": {},
   "outputs": [],
   "source": [
    "import { Duration, Component, BarLine, Note, Rest } from './classes.js';"
   ]
  },
  {
   "cell_type": "code",
   "execution_count": 2,
   "id": "57169ba2-f62b-41f5-a5d3-29c250a89b97",
   "metadata": {},
   "outputs": [],
   "source": [
    "// var promise = await fetch('http://localhost:8888/src/ly-grammar.ohm');\n",
    "// var ly = await promise.text();"
   ]
  },
  {
   "cell_type": "code",
   "execution_count": 23,
   "id": "2857483e-ae57-44cc-961d-0dbf8880ea1a",
   "metadata": {},
   "outputs": [],
   "source": [
    "var ly = `\n",
    "\n",
    "Lilypond {\n",
    "\n",
    "\tFile = (Clause)*\n",
    "    Clause = RelativeClause | Version\n",
    "\t\n",
    "    Version = \"\\\\\\\\version\" \"\\\\\"\" (digit | \".\")* \"\\\\\"\"\n",
    "    RelativeClause = (variable \"=\")? \"\\\\relative\" note? \"{\" Music \"}\"\n",
    "    \n",
    "    Music = Component*\n",
    "\n",
    "    comment = \"%\" (~\"\\\\n\" any)* (\"\\\\n\" | end)\n",
    "    space += comment\n",
    "    \n",
    "    Component = note --note\n",
    "    \t\t| repeatedNote -- repeatedNote\n",
    "\t\t    | rest --rest\n",
    "\t\t    | barline -- barline\n",
    "    \n",
    "    barline = \"|\"\n",
    "    \n",
    "\tnote = noteName accidental? octave? durationScaled? slur?\n",
    "\tnoteName = \"a\" | \"b\" | \"c\" | \"d\" | \"e\" | \"f\" | \"g\"\n",
    "    \n",
    "    repeatedNote = durationScaled slur?\n",
    "    \n",
    "    accidental = \"is\" -- sharp \n",
    "    \t\t\t| \"es\" -- flat\n",
    "    \n",
    "    rest = restName durationScaled?\n",
    "    restName = \"r\" -- rest \n",
    "    \t\t| \"R\" -- wholeBarRest\n",
    "    \n",
    "    octave = octaveUp | octaveDown\n",
    "    octaveUp = \"'\"+\n",
    "    octaveDown = \",\"+\n",
    "    \n",
    "    fraction = #(digit+ (\"/\" digit+)?)\n",
    "    \n",
    "    durationScaled = duration (\"*\" fraction)?\n",
    "    duration = (\"\\\\breve\" | \"64\" | \"32\" | \"16\" | \"8\" | \"4\" | \"2\" | \"1\") \".\"*\n",
    "    \n",
    "    slur = \"~\"\n",
    "    \n",
    "    variable = letter+\n",
    "}\n",
    "\n",
    "`"
   ]
  },
  {
   "cell_type": "code",
   "execution_count": 24,
   "id": "b0009c28-a060-4926-9abd-d0d5b52c15a1",
   "metadata": {},
   "outputs": [],
   "source": [
    "import * as ohm from 'npm:ohm-js';"
   ]
  },
  {
   "cell_type": "code",
   "execution_count": 25,
   "id": "9db5d37e-f2ca-44b1-a29e-34440ecfa185",
   "metadata": {},
   "outputs": [],
   "source": [
    "var lyGrammar = ohm.grammar(ly);"
   ]
  },
  {
   "cell_type": "code",
   "execution_count": 30,
   "id": "421cc9dd-5dbe-4112-9205-3712113af156",
   "metadata": {},
   "outputs": [],
   "source": [
    "var spemly = `\n",
    "\n",
    "choirISoprano = \\\\relative c {\n",
    "  r1 d''1. d2 \n",
    "  | % 2\n",
    "  d d a c c e2. d4 d1 c2 b2. a4 g2 d g a2. a4 d,2 r2 \n",
    "  | % 5\n",
    "  d'2. c4 c1 f,2 c'4. b8 \n",
    "  | % 6\n",
    "  a4 g f2 f'2. e4 d2. a2 d d, a' e4 r4 g c2 g' f4. e8 d4 c b2 \n",
    "  g d'1*2 r2 d d4 d2 a4 a2 r4 f \n",
    "  | % 10\n",
    "  c' e2 c4 e2 r4 a, a e'2 c4 \n",
    "  | % 11\n",
    "  f2 f4. e8 d4 a a1 d,2 \n",
    "  | % 12\n",
    "  a'2. a4 a2 r2. g2 b4 \n",
    "  | % 13\n",
    "  d a2 d g,4 r4 d'2 e8 fis g2. d4 d2 r1 d,2 a' r4 \n",
    "  | % 15\n",
    "  d b2. g4 d'2 g, c1 a2 a1 r2*59 d2 b b e,1 r2 \n",
    "  | % 28\n",
    "  b' e r4 e,2 e4 e2. e4 \n",
    "  | % 29\n",
    "  e2 r4 d g2. b2 g4 r4 d'2 g4 g1 r1*40 d1 e1. e2 \n",
    "  | % 45\n",
    "  e1 r2 e e d \n",
    "  | % 46\n",
    "  c2. c4 b1 r2 g2. g4. e8 e4 r4 c2 g'4. e8 e2 c'4. c8 \n",
    "  | % 48\n",
    "  c4 r4 e2 e4. f8 g4 r4 c, f, c'4. a8 \n",
    "  | % 49\n",
    "  a2 g8 f g2 r4 g2 g4 d'2 r2 d d4. d8 d4 d r2 g,1 \n",
    "  | % 51\n",
    "  f2 r4 g d'2 r2*17 c2 f2. f4 e d d2 c4 a2 g8 f e2 r4 a4. b8 \n",
    "  c d e4 a,2 d4 d2 r1. e2 d1 \n",
    "  | % 57\n",
    "  d2 d4 g2 f8 e d4. c8 b1 \n",
    "  | % 58\n",
    "  r2*15 c2. c4 e2 f e r1. d2 e d r2 d e \n",
    "  | % 63\n",
    "  d c b r4*51 g'4 f2 e r2. g4 f f e2 d r1. a4 d2 cis4 \n",
    "  | % 70\n",
    "  d2 r1 e2 b4 d g, c \n",
    "  | % 71\n",
    "  b2 g r2. g4 g4. a8 b c d4 \n",
    "  | % 72\n",
    "  g,1 r2 e'1 e2 \n",
    "  | % 73\n",
    "  e1*2 r2*29 d2 d d g2. f4 e2 \n",
    "  | % 79\n",
    "  d c b a d2. c4 \n",
    "  | % 80\n",
    "  b g a1 r1 b1. b2 b r4 g2 b4 b2 r2*5 c1 c4 c f1 c r4 a2 f4. \n",
    "  d8 d'2. d2 r2. ais f'2 f,4 a2 d, g4 g1 r1. d'2. b4 b2 \n",
    "  | % 88\n",
    "  b4 d2 b4 r2. c4. g8 g4. d8 d4 \n",
    "  | % 89\n",
    "  r2. g4 e e'2 e4 e c c2 \n",
    "  | % 90\n",
    "  r2. g4 d'2. g4 g2 r4 g2 d4 d2 d1*5 \n",
    "}\n",
    "\n",
    "`"
   ]
  },
  {
   "cell_type": "code",
   "execution_count": 31,
   "id": "0619bda5-ddb1-4d0a-8d0e-68cf306ab669",
   "metadata": {},
   "outputs": [
    {
     "name": "stderr",
     "output_type": "stream",
     "text": [
      "Bad Lilypond Line 3, col 17:\n",
      "  2 | \n",
      "> 3 | choirISoprano = \\relative c {\n",
      "                      ^\n",
      "  4 |   r1 d''1. d2 \n",
      "Expected \"\\relative\"\n"
     ]
    }
   ],
   "source": [
    "const result = lyGrammar.match(spemly);\n",
    "  if (!result.succeeded()) {\n",
    "    console.error('Bad Lilypond ' + result.message);\n",
    "  }"
   ]
  },
  {
   "cell_type": "code",
   "execution_count": 37,
   "id": "e0331159-71a0-4981-b0b4-dda9a1b60def",
   "metadata": {},
   "outputs": [],
   "source": [
    "var r = []"
   ]
  },
  {
   "cell_type": "code",
   "execution_count": 39,
   "id": "fc6edca7-b0fa-4f9d-bb59-7f36fc6d83e8",
   "metadata": {},
   "outputs": [
    {
     "data": {
      "text/plain": [
       "\u001b[33m2\u001b[39m"
      ]
     },
     "execution_count": 39,
     "metadata": {},
     "output_type": "execute_result"
    }
   ],
   "source": [
    "r.push( { \"from\":4, \"to\": 7.5})\n"
   ]
  },
  {
   "cell_type": "code",
   "execution_count": 40,
   "id": "86655c38-e613-4eaa-8626-fc3fd8a7ab8f",
   "metadata": {},
   "outputs": [
    {
     "data": {
      "text/plain": [
       "[ { from: \u001b[33m1\u001b[39m, to: \u001b[33m3\u001b[39m }, { from: \u001b[33m4\u001b[39m, to: \u001b[33m7.5\u001b[39m } ]"
      ]
     },
     "execution_count": 40,
     "metadata": {},
     "output_type": "execute_result"
    }
   ],
   "source": [
    "r"
   ]
  },
  {
   "cell_type": "code",
   "execution_count": 43,
   "id": "5b15da66-cb79-48f1-8b4b-027fb29c9193",
   "metadata": {},
   "outputs": [
    {
     "name": "stdout",
     "output_type": "stream",
     "text": [
      "1 to 3\n",
      "4 to 7.5\n"
     ]
    }
   ],
   "source": [
    "r.forEach( x => {\n",
    "    console.log(`${x.from} to ${x.to}`);\n",
    "});"
   ]
  },
  {
   "cell_type": "code",
   "execution_count": 1,
   "id": "ddda0ed5-d1cc-41ea-bb5b-df0dcb86413a",
   "metadata": {},
   "outputs": [],
   "source": [
    "var array = [227.9274, 247.8609, 266.1329, 284.9909, 301.5745, 321.0416, 342.0884, 362.7282, 387.7805, 411.3344, 431.6417, 460.0088, 486.1238, 511.4708, 533.9893, 559.6953, 591.8550, 623.2721, 653.8041, 677.8106, 704.6601, 732.4069, 756.9599, 783.0814, 801.5971, 814.3452, 824.9752, 835.6052, 846.2352, 856.8652, 867.4952, 878.1252, 888.7552, 899.3852, 910.0152, 920.6452, 931.2752, 941.9052, 952.5352, 963.1652, 985.2644, 1011.1272, 1038.8366, 1063.2906, 1087.6552, 1111.6276, 1122.2576, 1132.8876, 1143.5176, 1154.1476, 1164.7776, 1175.4076, 1186.0376, 1196.6676, 1207.2976, 1217.9276, 1228.5576, 1239.1876, 1249.8176, 1260.4476, 1271.0776, 1281.7076, 1292.3376, 1302.9676, 1313.5976, 1326.3457, 1346.7032, 1365.1180, 1385.7331, 1403.5796, 1427.7132, 1454.3817, 1486.3269, 1516.5722, 1538.8876, 1564.8961, 1586.2409, 1596.8709, 1607.5009, 1618.1309, 1628.7609, 1648.8225, 1677.4602, 1704.3331, 1721.4459, 1742.8762, 1767.9153, 1789.1062, 1804.5048, 1815.1348, 1825.7648, 1843.3742, 1863.0341, 1881.2415, 1901.3696, 1924.1334, 1934.7634, 1945.3934, 1956.0234, 1966.6534, 1985.0229, 2009.2470, 2032.3832, 2052.5129, 2072.9693, 2095.9450, 2121.5240, 2148.6489, 2168.8466, 2186.8180, 2203.7581, 2214.3881, 2225.0181, 2235.6481, 2246.2781, 2256.9081, 2267.5381, 2282.8475, 2307.4266, 2329.5326, 2355.2208, 2372.5407, 2391.9844, 2412.9859, 2428.3473, 2452.6371, 2477.4349, 2503.1204, 2527.9460, 2551.6335, 2577.9665, 2598.4372, 2622.2343, 2649.0431, 2673.9936, 2696.9553, 2726.0319, 2744.6800\n",
    "        ]"
   ]
  },
  {
   "cell_type": "code",
   "execution_count": 4,
   "id": "8dabff6f-0bba-4595-a750-fe1cac496619",
   "metadata": {},
   "outputs": [
    {
     "data": {
      "text/plain": [
       "\u001b[33m2744.68\u001b[39m"
      ]
     },
     "execution_count": 4,
     "metadata": {},
     "output_type": "execute_result"
    }
   ],
   "source": [
    "array[137]"
   ]
  },
  {
   "cell_type": "code",
   "execution_count": 5,
   "id": "51f80ee6-003a-4666-9c39-c839897b3d11",
   "metadata": {},
   "outputs": [],
   "source": [
    "var bar = 1;\n",
    "var width = 500;"
   ]
  },
  {
   "cell_type": "code",
   "execution_count": 53,
   "id": "ff997f9b-81bb-4700-a755-f3040c812ec5",
   "metadata": {},
   "outputs": [],
   "source": [
    "function getViewBox(bar, width) {\n",
    "    const ideal = 0.3;\n",
    "    var left = Math.max(array[0], array[bar-1] - (width * ideal));\n",
    "    var right = Math.min(array[137], array[bar-1] + (width * (1 - ideal)));\n",
    "    if (left > array[137] - width) {\n",
    "        left = array[137] - width;\n",
    "    }\n",
    "    if (right < array[0] + width) {\n",
    "        right = array[0] + width;\n",
    "    }\n",
    "    return [ left, right ];\n",
    "}"
   ]
  },
  {
   "cell_type": "code",
   "execution_count": 72,
   "id": "3ead7cfd-deb2-46f6-860a-e644fdc913c7",
   "metadata": {},
   "outputs": [
    {
     "data": {
      "text/plain": [
       "[ \u001b[33m2544.68\u001b[39m, \u001b[33m2744.68\u001b[39m ]"
      ]
     },
     "execution_count": 72,
     "metadata": {},
     "output_type": "execute_result"
    }
   ],
   "source": [
    "getViewBox(134, 200)"
   ]
  },
  {
   "cell_type": "code",
   "execution_count": null,
   "id": "a83d3fe9-86d3-40ca-898f-f1d02d75d23d",
   "metadata": {},
   "outputs": [],
   "source": []
  }
 ],
 "metadata": {
  "kernelspec": {
   "display_name": "Deno",
   "language": "typescript",
   "name": "deno"
  },
  "language_info": {
   "file_extension": ".ts",
   "mimetype": "text/x.typescript",
   "name": "typescript",
   "nb_converter": "script",
   "pygments_lexer": "typescript",
   "version": "5.3.3"
  }
 },
 "nbformat": 4,
 "nbformat_minor": 5
}
